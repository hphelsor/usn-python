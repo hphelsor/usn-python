{
 "cells": [
  {
   "cell_type": "code",
   "execution_count": 70,
   "id": "cfa7c611-e788-4836-b375-bffea9dd6e93",
   "metadata": {},
   "outputs": [
    {
     "name": "stdin",
     "output_type": "stream",
     "text": [
      "Hvor mange kilometer kjører du pr. år? 15000\n",
      "Hva er forsikringspremien for elbil? 8000\n",
      "Hva er forsikringspremien for bensinbil? 8000\n",
      "Hvor mange kWh bruker elbilen pr. mil? 2.5\n",
      "Hva er gjennomsnittlig pris pr. kWh? 2\n",
      "Hva er bensinbilens forbruk i liter pr. mil? 0.6\n",
      "Hva er gjennomsnittlig pris pr. liter bensin? 20\n"
     ]
    },
    {
     "name": "stdout",
     "output_type": "stream",
     "text": [
      "\n",
      "Elbil:\n",
      "Trafikkforsikring 3058\n",
      "Forsikring 8000\n",
      "Energi 7500\n",
      "Bom 1500\n",
      "---------------------------------------------------------\n",
      "Totalkostnad for elbil= 20058\n",
      "\n",
      "Bensinbil:\n",
      "Trafikkforsikring 3058\n",
      "Forsikring 8000\n",
      "Energi 18000\n",
      "Bom 4500\n",
      "---------------------------------------------------------\n",
      "Totalkostnad for bensinbil= 33558\n",
      "Bensinbil er 13500 dyrere enn elbil i året\n"
     ]
    }
   ],
   "source": [
    "km = int(input(\"Hvor mange kilometer kjører du pr. år?\"))\n",
    "forsikring_el = int(input(\"Hva er forsikringspremien for elbil?\"))\n",
    "forsikring_bensin = int(input(\"Hva er forsikringspremien for bensinbil?\"))\n",
    "forbruk_el = (float(input(\"Hvor mange kWh bruker elbilen pr. mil?\")))/10\n",
    "pris_el = float(input(\"Hva er gjennomsnittlig pris pr. kWh?\"))\n",
    "energi_el = int(km*forbruk_el*pris_el)\n",
    "forbruk_bensin = (float(input(\"Hva er bensinbilens forbruk i liter pr. mil?\")))/10\n",
    "pris_bensin = float(input(\"Hva er gjennomsnittlig pris pr. liter bensin?\"))\n",
    "energi_bensin = int(km*forbruk_bensin*pris_bensin)\n",
    "bom_el = int(km * 0.1)\n",
    "bom_bensin = int(km * 0.3)\n",
    "\n",
    "\n",
    "#forsikring_el = 5000\n",
    "#forsikring_bensin = 7500\n",
    "#energi_el = int(km*0.2*2.0)\n",
    "#energi_bensin = int(km*1.0)\n",
    "bom_el = int(km * 0.1)\n",
    "bom_bensin = int(km * 0.3)\n",
    "trafikkforsikring_el = int(365*8.38)\n",
    "trafikkforsikring_bensin = int(365*8.38)\n",
    "totalkostnad_el = energi_el+bom_el+forsikring_el+trafikkforsikring_el\n",
    "totalkostnad_bensin = energi_bensin+bom_bensin+forsikring_bensin+trafikkforsikring_bensin\n",
    "print()\n",
    "print(\"Elbil:\")\n",
    "print(\"Trafikkforsikring\",trafikkforsikring_el)\n",
    "print(\"Forsikring\",forsikring_el)\n",
    "print(\"Energi\",energi_el)\n",
    "print(\"Bom\",bom_el)\n",
    "print(\"---------------------------------------------------------\")\n",
    "print(\"Totalkostnad for elbil=\",totalkostnad_el)\n",
    "print()\n",
    "print(\"Bensinbil:\")\n",
    "print(\"Trafikkforsikring\",trafikkforsikring_bensin)\n",
    "print(\"Forsikring\",forsikring_bensin)\n",
    "print(\"Energi\",energi_bensin)\n",
    "print(\"Bom\",bom_bensin)\n",
    "print(\"---------------------------------------------------------\")\n",
    "print(\"Totalkostnad for bensinbil=\",totalkostnad_bensin)\n",
    "if totalkostnad_bensin>totalkostnad_el:\n",
    "    print(\"Bensinbil er\",totalkostnad_bensin-totalkostnad_el,\"dyrere enn elbil i året\")\n",
    "elif totalkostnad_bensin<totalkostnad_el:\n",
    "    print(\"Bensinbil er\",totalkostnad_el-totalkostnad_bensin,\"billigere enn elbil i året\")\n",
    "else:\n",
    "    print(\"Bensinbil og elbil er like dyrt\")\n"
   ]
  },
  {
   "cell_type": "code",
   "execution_count": null,
   "id": "aaf75b4c-b6e4-483c-b9c1-1055c2889bff",
   "metadata": {},
   "outputs": [],
   "source": []
  }
 ],
 "metadata": {
  "kernelspec": {
   "display_name": "anaconda-ai-2024.04-py310",
   "language": "python",
   "name": "conda-env-anaconda-ai-2024.04-py310-py"
  },
  "language_info": {
   "codemirror_mode": {
    "name": "ipython",
    "version": 3
   },
   "file_extension": ".py",
   "mimetype": "text/x-python",
   "name": "python",
   "nbconvert_exporter": "python",
   "pygments_lexer": "ipython3",
   "version": "3.10.13"
  }
 },
 "nbformat": 4,
 "nbformat_minor": 5
}
