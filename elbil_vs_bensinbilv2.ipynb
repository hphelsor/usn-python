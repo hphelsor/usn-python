{
 "cells": [
  {
   "cell_type": "code",
   "execution_count": 80,
   "id": "cfa7c611-e788-4836-b375-bffea9dd6e93",
   "metadata": {},
   "outputs": [
    {
     "name": "stdin",
     "output_type": "stream",
     "text": [
      "Hvor mange kilometer kjører du pr. år? 10000\n",
      "Hva er forsikringspremien for elbil? 5000\n",
      "Hva er forsikringspremien for bensinbil? 5000\n",
      "Hvor mange kWh bruker elbilen pr. mil? 2\n",
      "Hva er gjennomsnittlig pris pr. kWh? 2\n",
      "Hva er bensinbilens forbruk i liter pr. mil? 1\n",
      "Hva er gjennomsnittlig pris pr. liter bensin? 4\n"
     ]
    },
    {
     "name": "stdout",
     "output_type": "stream",
     "text": [
      "\n",
      "Elbil:\n",
      "Trafikkforsikring 3058\n",
      "Forsikring 5000\n",
      "Energi 4000\n",
      "Bom 1000\n",
      "---------------------------------------------------------\n",
      "Totalkostnad for elbil= 13058\n",
      "\n",
      "Bensinbil:\n",
      "Trafikkforsikring 3058\n",
      "Forsikring 5000\n",
      "Energi 4000\n",
      "Bom 3000\n",
      "---------------------------------------------------------\n",
      "Totalkostnad for bensinbil= 15058\n",
      "Bensinbil er 2000 dyrere enn elbil i året\n"
     ]
    }
   ],
   "source": [
    "#Oppgi km pr år\n",
    "km = int(input(\"Hvor mange kilometer kjører du pr. år?\"))\n",
    "\n",
    "#Ber om data for beregning av kostnader\n",
    "#Kommenteres ut dersom man vil kjøre et enklere program uten input\n",
    "forsikring_el = int(input(\"Hva er forsikringspremien for elbil?\"))\n",
    "forsikring_bensin = int(input(\"Hva er forsikringspremien for bensinbil?\"))\n",
    "forbruk_el = (float(input(\"Hvor mange kWh bruker elbilen pr. mil?\")))/10\n",
    "pris_el = float(input(\"Hva er gjennomsnittlig pris pr. kWh?\"))\n",
    "energi_el = int(km*forbruk_el*pris_el)\n",
    "forbruk_bensin = (float(input(\"Hva er bensinbilens forbruk i liter pr. mil?\")))/10\n",
    "pris_bensin = float(input(\"Hva er gjennomsnittlig pris pr. liter bensin?\"))\n",
    "energi_bensin = int(km*forbruk_bensin*pris_bensin)\n",
    "\n",
    "\n",
    "#Denne blokka kan aktiveres for et enklere program\n",
    "#forsikring_el = 5000\n",
    "#forsikring_bensin = 7500\n",
    "#energi_el = int(km*0.2*2.0)\n",
    "#energi_bensin = int(km*1.0)\n",
    "\n",
    "#Beregner kostnader som ikke kan påvirkes\n",
    "bom_el = int(km * 0.1)\n",
    "bom_bensin = int(km * 0.3)\n",
    "trafikkforsikring_el = int(365*8.38) #antall dager ganger kostnad pr dag\n",
    "trafikkforsikring_bensin = int(365*8.38) #antall dager ganger kostnad pr dag\n",
    "\n",
    "#Beregner kostnader som påvirkes av opplysningene som er gitt\n",
    "totalkostnad_el = energi_el+bom_el+forsikring_el+trafikkforsikring_el\n",
    "totalkostnad_bensin = energi_bensin+bom_bensin+forsikring_bensin+trafikkforsikring_bensin\n",
    "\n",
    "#Presenterer kostnadsoversikter\n",
    "print()\n",
    "print(\"Elbil:\")\n",
    "print(\"Trafikkforsikring\",trafikkforsikring_el)\n",
    "print(\"Forsikring\",forsikring_el)\n",
    "print(\"Energi\",energi_el)\n",
    "print(\"Bom\",bom_el)\n",
    "print(\"---------------------------------------------------------\")\n",
    "print(\"Totalkostnad for elbil=\",totalkostnad_el)\n",
    "print()\n",
    "print(\"Bensinbil:\")\n",
    "print(\"Trafikkforsikring\",trafikkforsikring_bensin)\n",
    "print(\"Forsikring\",forsikring_bensin)\n",
    "print(\"Energi\",energi_bensin)\n",
    "print(\"Bom\",bom_bensin)\n",
    "print(\"---------------------------------------------------------\")\n",
    "print(\"Totalkostnad for bensinbil=\",totalkostnad_bensin)\n",
    "\n",
    "#Sammenligner og presenterer kostnadsforskjell mellom biltypene \n",
    "if totalkostnad_bensin>totalkostnad_el:\n",
    "    print(\"Bensinbil er\",totalkostnad_bensin-totalkostnad_el,\"dyrere enn elbil i året\")\n",
    "elif totalkostnad_bensin<totalkostnad_el:\n",
    "    print(\"Bensinbil er\",totalkostnad_el-totalkostnad_bensin,\"billigere enn elbil i året\")\n",
    "else:\n",
    "    print(\"Bensinbil og elbil er like dyrt\")\n"
   ]
  },
  {
   "cell_type": "code",
   "execution_count": null,
   "id": "aaf75b4c-b6e4-483c-b9c1-1055c2889bff",
   "metadata": {},
   "outputs": [],
   "source": []
  }
 ],
 "metadata": {
  "kernelspec": {
   "display_name": "anaconda-ai-2024.04-py310",
   "language": "python",
   "name": "conda-env-anaconda-ai-2024.04-py310-py"
  },
  "language_info": {
   "codemirror_mode": {
    "name": "ipython",
    "version": 3
   },
   "file_extension": ".py",
   "mimetype": "text/x-python",
   "name": "python",
   "nbconvert_exporter": "python",
   "pygments_lexer": "ipython3",
   "version": "3.10.13"
  }
 },
 "nbformat": 4,
 "nbformat_minor": 5
}
